{
 "cells": [
  {
   "cell_type": "markdown",
   "metadata": {},
   "source": [
    "CoGaDB Exploration Results\n",
    "==========================="
   ]
  },
  {
   "cell_type": "markdown",
   "metadata": {},
   "source": [
    "## Overview"
   ]
  },
  {
   "cell_type": "markdown",
   "metadata": {},
   "source": [
    "### Imports:"
   ]
  },
  {
   "cell_type": "code",
   "execution_count": 1,
   "metadata": {
    "collapsed": false
   },
   "outputs": [],
   "source": [
    "%matplotlib inline\n",
    "\n",
    "from exploration import *"
   ]
  },
  {
   "cell_type": "markdown",
   "metadata": {},
   "source": [
    "### Load csv files:"
   ]
  },
  {
   "cell_type": "code",
   "execution_count": 2,
   "metadata": {
    "collapsed": false
   },
   "outputs": [
    {
     "data": {
      "text/plain": [
       "'/home/chris/projects/cogadb/code/benchmarks/exploration/analysis/logs'"
      ]
     },
     "execution_count": 2,
     "metadata": {},
     "output_type": "execute_result"
    }
   ],
   "source": [
    "logDirectory = os.path.join(os.getcwd(), \"logs\")\n",
    "logDirectory"
   ]
  },
  {
   "cell_type": "code",
   "execution_count": 3,
   "metadata": {
    "collapsed": false
   },
   "outputs": [],
   "source": [
    "logEntries = concatCSVFiles(logDirectory)"
   ]
  },
  {
   "cell_type": "code",
   "execution_count": 4,
   "metadata": {
    "collapsed": false
   },
   "outputs": [],
   "source": [
    "data = createPandasDataFrame(logEntries)"
   ]
  },
  {
   "cell_type": "markdown",
   "metadata": {},
   "source": [
    "### Head"
   ]
  },
  {
   "cell_type": "code",
   "execution_count": 5,
   "metadata": {
    "collapsed": false
   },
   "outputs": [
    {
     "data": {
      "text/html": [
       "<div>\n",
       "<table border=\"1\" class=\"dataframe\">\n",
       "  <thead>\n",
       "    <tr style=\"text-align: right;\">\n",
       "      <th></th>\n",
       "      <th>Query</th>\n",
       "      <th>Host</th>\n",
       "      <th>DeviceType</th>\n",
       "      <th>Device</th>\n",
       "      <th>ExplorationMode</th>\n",
       "      <th>VariantTag</th>\n",
       "      <th>Variant</th>\n",
       "      <th>Min</th>\n",
       "      <th>Max</th>\n",
       "      <th>Median</th>\n",
       "      <th>Mean</th>\n",
       "      <th>Stdev</th>\n",
       "      <th>Var</th>\n",
       "    </tr>\n",
       "  </thead>\n",
       "  <tbody>\n",
       "    <tr>\n",
       "      <th>0</th>\n",
       "      <td>grouped_aggregation_query_1</td>\n",
       "      <td>gpu-1</td>\n",
       "      <td>cpu</td>\n",
       "      <td>Intel(R) Xeon(R) CPU E5-2650 v2 @ 2.60GHz</td>\n",
       "      <td>Feature-wise Exploration</td>\n",
       "      <td>Fast</td>\n",
       "      <td>parallel_global_atomic_single_pass</td>\n",
       "      <td>0.242300</td>\n",
       "      <td>1.021360</td>\n",
       "      <td>0.249208</td>\n",
       "      <td>0.318730</td>\n",
       "      <td>0.222212</td>\n",
       "      <td>0.049378</td>\n",
       "    </tr>\n",
       "    <tr>\n",
       "      <th>1</th>\n",
       "      <td>grouped_aggregation_query_1</td>\n",
       "      <td>gpu-1</td>\n",
       "      <td>cpu</td>\n",
       "      <td>Intel(R) Xeon(R) CPU E5-2650 v2 @ 2.60GHz</td>\n",
       "      <td>Feature-wise Exploration</td>\n",
       "      <td>Variant</td>\n",
       "      <td>serial_single_pass</td>\n",
       "      <td>0.243195</td>\n",
       "      <td>0.542819</td>\n",
       "      <td>0.265625</td>\n",
       "      <td>0.353558</td>\n",
       "      <td>0.128570</td>\n",
       "      <td>0.016530</td>\n",
       "    </tr>\n",
       "    <tr>\n",
       "      <th>2</th>\n",
       "      <td>grouped_aggregation_query_1</td>\n",
       "      <td>gpu-1</td>\n",
       "      <td>cpu</td>\n",
       "      <td>Intel(R) Xeon(R) CPU E5-2650 v2 @ 2.60GHz</td>\n",
       "      <td>Feature-wise Exploration</td>\n",
       "      <td>Slow</td>\n",
       "      <td>parallel_three_pass</td>\n",
       "      <td>0.249592</td>\n",
       "      <td>0.515367</td>\n",
       "      <td>0.491590</td>\n",
       "      <td>0.466837</td>\n",
       "      <td>0.070860</td>\n",
       "      <td>0.005021</td>\n",
       "    </tr>\n",
       "    <tr>\n",
       "      <th>3</th>\n",
       "      <td>grouped_aggregation_query_1</td>\n",
       "      <td>gpu-1</td>\n",
       "      <td>cpu</td>\n",
       "      <td>Intel(R) Xeon(R) CPU E5-2650 v2 @ 2.60GHz</td>\n",
       "      <td>Feature-wise Exploration</td>\n",
       "      <td>Fast</td>\n",
       "      <td>sequential</td>\n",
       "      <td>0.244459</td>\n",
       "      <td>0.495095</td>\n",
       "      <td>0.252726</td>\n",
       "      <td>0.312408</td>\n",
       "      <td>0.100564</td>\n",
       "      <td>0.010113</td>\n",
       "    </tr>\n",
       "    <tr>\n",
       "      <th>4</th>\n",
       "      <td>grouped_aggregation_query_1</td>\n",
       "      <td>gpu-1</td>\n",
       "      <td>cpu</td>\n",
       "      <td>Intel(R) Xeon(R) CPU E5-2650 v2 @ 2.60GHz</td>\n",
       "      <td>Feature-wise Exploration</td>\n",
       "      <td>Slow</td>\n",
       "      <td>coalesced</td>\n",
       "      <td>0.247884</td>\n",
       "      <td>0.492505</td>\n",
       "      <td>0.255858</td>\n",
       "      <td>0.338654</td>\n",
       "      <td>0.114170</td>\n",
       "      <td>0.013035</td>\n",
       "    </tr>\n",
       "  </tbody>\n",
       "</table>\n",
       "</div>"
      ],
      "text/plain": [
       "                         Query   Host DeviceType  \\\n",
       "0  grouped_aggregation_query_1  gpu-1        cpu   \n",
       "1  grouped_aggregation_query_1  gpu-1        cpu   \n",
       "2  grouped_aggregation_query_1  gpu-1        cpu   \n",
       "3  grouped_aggregation_query_1  gpu-1        cpu   \n",
       "4  grouped_aggregation_query_1  gpu-1        cpu   \n",
       "\n",
       "                                      Device           ExplorationMode  \\\n",
       "0  Intel(R) Xeon(R) CPU E5-2650 v2 @ 2.60GHz  Feature-wise Exploration   \n",
       "1  Intel(R) Xeon(R) CPU E5-2650 v2 @ 2.60GHz  Feature-wise Exploration   \n",
       "2  Intel(R) Xeon(R) CPU E5-2650 v2 @ 2.60GHz  Feature-wise Exploration   \n",
       "3  Intel(R) Xeon(R) CPU E5-2650 v2 @ 2.60GHz  Feature-wise Exploration   \n",
       "4  Intel(R) Xeon(R) CPU E5-2650 v2 @ 2.60GHz  Feature-wise Exploration   \n",
       "\n",
       "  VariantTag                             Variant       Min       Max  \\\n",
       "0       Fast  parallel_global_atomic_single_pass  0.242300  1.021360   \n",
       "1    Variant                  serial_single_pass  0.243195  0.542819   \n",
       "2       Slow                 parallel_three_pass  0.249592  0.515367   \n",
       "3       Fast                          sequential  0.244459  0.495095   \n",
       "4       Slow                           coalesced  0.247884  0.492505   \n",
       "\n",
       "     Median      Mean     Stdev       Var  \n",
       "0  0.249208  0.318730  0.222212  0.049378  \n",
       "1  0.265625  0.353558  0.128570  0.016530  \n",
       "2  0.491590  0.466837  0.070860  0.005021  \n",
       "3  0.252726  0.312408  0.100564  0.010113  \n",
       "4  0.255858  0.338654  0.114170  0.013035  "
      ]
     },
     "execution_count": 5,
     "metadata": {},
     "output_type": "execute_result"
    }
   ],
   "source": [
    "data.head()"
   ]
  },
  {
   "cell_type": "markdown",
   "metadata": {},
   "source": [
    "### Distinct values"
   ]
  },
  {
   "cell_type": "code",
   "execution_count": 6,
   "metadata": {
    "collapsed": false
   },
   "outputs": [],
   "source": [
    "def printDistinct(caption, series):\n",
    "    print(caption + \":\")\n",
    "    for item in series.unique():\n",
    "        print(\"\\t\", item)"
   ]
  },
  {
   "cell_type": "code",
   "execution_count": 7,
   "metadata": {
    "collapsed": false
   },
   "outputs": [
    {
     "name": "stdout",
     "output_type": "stream",
     "text": [
      "Queries:\n",
      "\t grouped_aggregation_query_1\n",
      "\t projection-query-1-medium-selectivity\n",
      "\t simple-aggregation-query-1-medium-selectivity\n",
      "\t projection-query-2-high-selectivity\n"
     ]
    }
   ],
   "source": [
    "printDistinct(\"Queries\", data[\"Query\"])"
   ]
  },
  {
   "cell_type": "code",
   "execution_count": 8,
   "metadata": {
    "collapsed": false
   },
   "outputs": [
    {
     "name": "stdout",
     "output_type": "stream",
     "text": [
      "Hosts:\n",
      "\t gpu-1\n"
     ]
    }
   ],
   "source": [
    "printDistinct(\"Hosts\", data[\"Host\"])"
   ]
  },
  {
   "cell_type": "code",
   "execution_count": 9,
   "metadata": {
    "collapsed": false
   },
   "outputs": [
    {
     "name": "stdout",
     "output_type": "stream",
     "text": [
      "DeviceTypes:\n",
      "\t cpu\n",
      "\t dgpu\n"
     ]
    }
   ],
   "source": [
    "printDistinct(\"DeviceTypes\", data[\"DeviceType\"])"
   ]
  },
  {
   "cell_type": "code",
   "execution_count": 10,
   "metadata": {
    "collapsed": false
   },
   "outputs": [
    {
     "name": "stdout",
     "output_type": "stream",
     "text": [
      "ExplorationModes:\n",
      "\t Feature-wise Exploration\n",
      "\t Full Exploration\n"
     ]
    }
   ],
   "source": [
    "printDistinct(\"ExplorationModes\", data[\"ExplorationMode\"])"
   ]
  },
  {
   "cell_type": "code",
   "execution_count": 11,
   "metadata": {
    "collapsed": false
   },
   "outputs": [
    {
     "name": "stdout",
     "output_type": "stream",
     "text": [
      "VariantTags:\n",
      "\t Fast\n",
      "\t Variant\n",
      "\t Slow\n",
      "\t Combined\n",
      "\t Fastest\n",
      "\t Slowest\n"
     ]
    }
   ],
   "source": [
    "printDistinct(\"VariantTags\", data[\"VariantTag\"])"
   ]
  },
  {
   "cell_type": "code",
   "execution_count": 12,
   "metadata": {
    "collapsed": false
   },
   "outputs": [
    {
     "name": "stdout",
     "output_type": "stream",
     "text": [
      "Variants:\n",
      "\t parallel_global_atomic_single_pass\n",
      "\t serial_single_pass\n",
      "\t parallel_three_pass\n",
      "\t sequential\n",
      "\t coalesced\n",
      "\t false\n",
      "\t true\n",
      "\t sequential-false-parallel_global_atomic_single_pass\n",
      "\t coalesced-true-sequential\n",
      "\t coalesced-false-sequential\n",
      "\t sequential-false-sequential\n",
      "\t sequential-true-sequential\n",
      "\t coalesced-true-semaphore\n",
      "\t sequential-false-semaphore\n",
      "\t sequential-true-semaphore\n",
      "\t coalesced-false-semaphore\n",
      "\t coalesced-false-serial_single_pass\n",
      "\t coalesced-true-atomic_workgroup\n",
      "\t coalesced-false-atomic_workgroup\n",
      "\t coalesced-false-atomic\n",
      "\t coalesced-true-atomic\n",
      "\t sequential-true-atomic\n",
      "\t sequential-false-atomic\n",
      "\t sequential-true-atomic_workgroup\n",
      "\t sequential-false-atomic_workgroup\n",
      "\t coalesced-true-parallel_three_pass\n",
      "\t coalesced-false-parallel_three_pass\n",
      "\t coalesced-false-parallel_global_atomic_single_pass\n",
      "\t coalesced-true-parallel_global_atomic_single_pass\n",
      "\t sequential-true-parallel_three_pass\n",
      "\t sequential-false-parallel_three_pass\n",
      "\t sequential-false-serial_single_pass\n",
      "\t sequential-true-serial_single_pass\n",
      "\t coalesced-true-serial_single_pass\n",
      "\t sequential-true-parallel_global_atomic_single_pass\n",
      "\t coalesced-true\n",
      "\t coalesced-false\n",
      "\t sequential-true\n",
      "\t sequential-false\n"
     ]
    }
   ],
   "source": [
    "printDistinct(\"Variants\", data[\"Variant\"])"
   ]
  }
 ],
 "metadata": {
  "kernelspec": {
   "display_name": "Python 3",
   "language": "python",
   "name": "python3"
  },
  "language_info": {
   "codemirror_mode": {
    "name": "ipython",
    "version": 3
   },
   "file_extension": ".py",
   "mimetype": "text/x-python",
   "name": "python",
   "nbconvert_exporter": "python",
   "pygments_lexer": "ipython3",
   "version": "3.5.2"
  }
 },
 "nbformat": 4,
 "nbformat_minor": 0
}
