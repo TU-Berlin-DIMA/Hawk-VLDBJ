{
 "cells": [
  {
   "cell_type": "markdown",
   "metadata": {},
   "source": [
    "CoGaDB Exploration Results\n",
    "==========================="
   ]
  },
  {
   "cell_type": "markdown",
   "metadata": {},
   "source": [
    "## Example query"
   ]
  },
  {
   "cell_type": "markdown",
   "metadata": {},
   "source": [
    "### Imports:"
   ]
  },
  {
   "cell_type": "code",
   "execution_count": 1,
   "metadata": {
    "collapsed": false
   },
   "outputs": [],
   "source": [
    "%matplotlib inline\n",
    "\n",
    "from exploration import *"
   ]
  },
  {
   "cell_type": "markdown",
   "metadata": {},
   "source": [
    "### Load csv files:"
   ]
  },
  {
   "cell_type": "code",
   "execution_count": 2,
   "metadata": {
    "collapsed": false
   },
   "outputs": [
    {
     "data": {
      "text/plain": [
       "'/home/chris/projects/cogadb/code/benchmarks/exploration/analysis/logs'"
      ]
     },
     "execution_count": 2,
     "metadata": {},
     "output_type": "execute_result"
    }
   ],
   "source": [
    "logDirectory = os.path.join(os.getcwd(), \"logs\")\n",
    "logDirectory"
   ]
  },
  {
   "cell_type": "code",
   "execution_count": 3,
   "metadata": {
    "collapsed": false
   },
   "outputs": [],
   "source": [
    "logEntries = concatCSVFiles(logDirectory)"
   ]
  },
  {
   "cell_type": "code",
   "execution_count": 4,
   "metadata": {
    "collapsed": false
   },
   "outputs": [],
   "source": [
    "data = createPandasDataFrame(logEntries)"
   ]
  },
  {
   "cell_type": "markdown",
   "metadata": {},
   "source": [
    "### Variants for a query"
   ]
  },
  {
   "cell_type": "markdown",
   "metadata": {},
   "source": [
    "Query:"
   ]
  },
  {
   "cell_type": "code",
   "execution_count": 5,
   "metadata": {
    "collapsed": false
   },
   "outputs": [
    {
     "name": "stdout",
     "output_type": "stream",
     "text": [
      "Selecting:  grouped_aggregation_query_1\n"
     ]
    }
   ],
   "source": [
    "query = data[\"Query\"].unique()[0]\n",
    "print(\"Selecting: \", query)"
   ]
  },
  {
   "cell_type": "code",
   "execution_count": 6,
   "metadata": {
    "collapsed": false
   },
   "outputs": [],
   "source": [
    "filtered = data[(data.Query==query)]\n",
    "filtered = filtered[[\"Query\", \"Host\", \"DeviceType\", \"Device\", \"VariantTag\", \"Variant\", \"Median\", \"Mean\", \"Stdev\"]]"
   ]
  },
  {
   "cell_type": "code",
   "execution_count": 7,
   "metadata": {
    "collapsed": false
   },
   "outputs": [
    {
     "data": {
      "text/html": [
       "<div>\n",
       "<table border=\"1\" class=\"dataframe\">\n",
       "  <thead>\n",
       "    <tr style=\"text-align: right;\">\n",
       "      <th></th>\n",
       "      <th>Query</th>\n",
       "      <th>Host</th>\n",
       "      <th>DeviceType</th>\n",
       "      <th>Device</th>\n",
       "      <th>VariantTag</th>\n",
       "      <th>Variant</th>\n",
       "      <th>Median</th>\n",
       "      <th>Mean</th>\n",
       "      <th>Stdev</th>\n",
       "    </tr>\n",
       "  </thead>\n",
       "  <tbody>\n",
       "    <tr>\n",
       "      <th>0</th>\n",
       "      <td>grouped_aggregation_query_1</td>\n",
       "      <td>gpu-1</td>\n",
       "      <td>cpu</td>\n",
       "      <td>Intel(R) Xeon(R) CPU E5-2650 v2 @ 2.60GHz</td>\n",
       "      <td>Fast</td>\n",
       "      <td>parallel_global_atomic_single_pass</td>\n",
       "      <td>0.249208</td>\n",
       "      <td>0.318730</td>\n",
       "      <td>0.222212</td>\n",
       "    </tr>\n",
       "    <tr>\n",
       "      <th>1</th>\n",
       "      <td>grouped_aggregation_query_1</td>\n",
       "      <td>gpu-1</td>\n",
       "      <td>cpu</td>\n",
       "      <td>Intel(R) Xeon(R) CPU E5-2650 v2 @ 2.60GHz</td>\n",
       "      <td>Variant</td>\n",
       "      <td>serial_single_pass</td>\n",
       "      <td>0.265625</td>\n",
       "      <td>0.353558</td>\n",
       "      <td>0.128570</td>\n",
       "    </tr>\n",
       "    <tr>\n",
       "      <th>2</th>\n",
       "      <td>grouped_aggregation_query_1</td>\n",
       "      <td>gpu-1</td>\n",
       "      <td>cpu</td>\n",
       "      <td>Intel(R) Xeon(R) CPU E5-2650 v2 @ 2.60GHz</td>\n",
       "      <td>Slow</td>\n",
       "      <td>parallel_three_pass</td>\n",
       "      <td>0.491590</td>\n",
       "      <td>0.466837</td>\n",
       "      <td>0.070860</td>\n",
       "    </tr>\n",
       "    <tr>\n",
       "      <th>3</th>\n",
       "      <td>grouped_aggregation_query_1</td>\n",
       "      <td>gpu-1</td>\n",
       "      <td>cpu</td>\n",
       "      <td>Intel(R) Xeon(R) CPU E5-2650 v2 @ 2.60GHz</td>\n",
       "      <td>Fast</td>\n",
       "      <td>sequential</td>\n",
       "      <td>0.252726</td>\n",
       "      <td>0.312408</td>\n",
       "      <td>0.100564</td>\n",
       "    </tr>\n",
       "    <tr>\n",
       "      <th>4</th>\n",
       "      <td>grouped_aggregation_query_1</td>\n",
       "      <td>gpu-1</td>\n",
       "      <td>cpu</td>\n",
       "      <td>Intel(R) Xeon(R) CPU E5-2650 v2 @ 2.60GHz</td>\n",
       "      <td>Slow</td>\n",
       "      <td>coalesced</td>\n",
       "      <td>0.255858</td>\n",
       "      <td>0.338654</td>\n",
       "      <td>0.114170</td>\n",
       "    </tr>\n",
       "    <tr>\n",
       "      <th>5</th>\n",
       "      <td>grouped_aggregation_query_1</td>\n",
       "      <td>gpu-1</td>\n",
       "      <td>cpu</td>\n",
       "      <td>Intel(R) Xeon(R) CPU E5-2650 v2 @ 2.60GHz</td>\n",
       "      <td>Fast</td>\n",
       "      <td>false</td>\n",
       "      <td>0.255444</td>\n",
       "      <td>0.313701</td>\n",
       "      <td>0.100822</td>\n",
       "    </tr>\n",
       "    <tr>\n",
       "      <th>6</th>\n",
       "      <td>grouped_aggregation_query_1</td>\n",
       "      <td>gpu-1</td>\n",
       "      <td>cpu</td>\n",
       "      <td>Intel(R) Xeon(R) CPU E5-2650 v2 @ 2.60GHz</td>\n",
       "      <td>Slow</td>\n",
       "      <td>true</td>\n",
       "      <td>0.468588</td>\n",
       "      <td>0.371610</td>\n",
       "      <td>0.114893</td>\n",
       "    </tr>\n",
       "    <tr>\n",
       "      <th>7</th>\n",
       "      <td>grouped_aggregation_query_1</td>\n",
       "      <td>gpu-1</td>\n",
       "      <td>cpu</td>\n",
       "      <td>Intel(R) Xeon(R) CPU E5-2650 v2 @ 2.60GHz</td>\n",
       "      <td>Combined</td>\n",
       "      <td>sequential-false-parallel_global_atomic_single...</td>\n",
       "      <td>0.253407</td>\n",
       "      <td>0.252697</td>\n",
       "      <td>0.005785</td>\n",
       "    </tr>\n",
       "    <tr>\n",
       "      <th>8</th>\n",
       "      <td>grouped_aggregation_query_1</td>\n",
       "      <td>gpu-1</td>\n",
       "      <td>cpu</td>\n",
       "      <td>Intel(R) Xeon(R) CPU E5-2650 v2 @ 2.60GHz</td>\n",
       "      <td>Fastest</td>\n",
       "      <td>coalesced-true-sequential</td>\n",
       "      <td>0.029986</td>\n",
       "      <td>0.030798</td>\n",
       "      <td>0.003627</td>\n",
       "    </tr>\n",
       "    <tr>\n",
       "      <th>9</th>\n",
       "      <td>grouped_aggregation_query_1</td>\n",
       "      <td>gpu-1</td>\n",
       "      <td>cpu</td>\n",
       "      <td>Intel(R) Xeon(R) CPU E5-2650 v2 @ 2.60GHz</td>\n",
       "      <td>Variant</td>\n",
       "      <td>coalesced-false-sequential</td>\n",
       "      <td>0.032019</td>\n",
       "      <td>0.034239</td>\n",
       "      <td>0.005580</td>\n",
       "    </tr>\n",
       "    <tr>\n",
       "      <th>10</th>\n",
       "      <td>grouped_aggregation_query_1</td>\n",
       "      <td>gpu-1</td>\n",
       "      <td>cpu</td>\n",
       "      <td>Intel(R) Xeon(R) CPU E5-2650 v2 @ 2.60GHz</td>\n",
       "      <td>Variant</td>\n",
       "      <td>sequential-false-sequential</td>\n",
       "      <td>0.032823</td>\n",
       "      <td>0.032808</td>\n",
       "      <td>0.003944</td>\n",
       "    </tr>\n",
       "    <tr>\n",
       "      <th>11</th>\n",
       "      <td>grouped_aggregation_query_1</td>\n",
       "      <td>gpu-1</td>\n",
       "      <td>cpu</td>\n",
       "      <td>Intel(R) Xeon(R) CPU E5-2650 v2 @ 2.60GHz</td>\n",
       "      <td>Variant</td>\n",
       "      <td>sequential-true-sequential</td>\n",
       "      <td>0.033156</td>\n",
       "      <td>0.034265</td>\n",
       "      <td>0.004889</td>\n",
       "    </tr>\n",
       "    <tr>\n",
       "      <th>12</th>\n",
       "      <td>grouped_aggregation_query_1</td>\n",
       "      <td>gpu-1</td>\n",
       "      <td>cpu</td>\n",
       "      <td>Intel(R) Xeon(R) CPU E5-2650 v2 @ 2.60GHz</td>\n",
       "      <td>Variant</td>\n",
       "      <td>coalesced-true-semaphore</td>\n",
       "      <td>0.242125</td>\n",
       "      <td>0.242091</td>\n",
       "      <td>0.002891</td>\n",
       "    </tr>\n",
       "    <tr>\n",
       "      <th>13</th>\n",
       "      <td>grouped_aggregation_query_1</td>\n",
       "      <td>gpu-1</td>\n",
       "      <td>cpu</td>\n",
       "      <td>Intel(R) Xeon(R) CPU E5-2650 v2 @ 2.60GHz</td>\n",
       "      <td>Variant</td>\n",
       "      <td>sequential-false-semaphore</td>\n",
       "      <td>0.250340</td>\n",
       "      <td>0.250412</td>\n",
       "      <td>0.004720</td>\n",
       "    </tr>\n",
       "    <tr>\n",
       "      <th>14</th>\n",
       "      <td>grouped_aggregation_query_1</td>\n",
       "      <td>gpu-1</td>\n",
       "      <td>cpu</td>\n",
       "      <td>Intel(R) Xeon(R) CPU E5-2650 v2 @ 2.60GHz</td>\n",
       "      <td>Variant</td>\n",
       "      <td>sequential-true-semaphore</td>\n",
       "      <td>0.250692</td>\n",
       "      <td>0.348592</td>\n",
       "      <td>0.113313</td>\n",
       "    </tr>\n",
       "    <tr>\n",
       "      <th>15</th>\n",
       "      <td>grouped_aggregation_query_1</td>\n",
       "      <td>gpu-1</td>\n",
       "      <td>cpu</td>\n",
       "      <td>Intel(R) Xeon(R) CPU E5-2650 v2 @ 2.60GHz</td>\n",
       "      <td>Slowest</td>\n",
       "      <td>coalesced-false-semaphore</td>\n",
       "      <td>0.259071</td>\n",
       "      <td>0.259037</td>\n",
       "      <td>0.005145</td>\n",
       "    </tr>\n",
       "    <tr>\n",
       "      <th>16</th>\n",
       "      <td>grouped_aggregation_query_1</td>\n",
       "      <td>gpu-1</td>\n",
       "      <td>dgpu</td>\n",
       "      <td>Tesla K40m</td>\n",
       "      <td>Fast</td>\n",
       "      <td>serial_single_pass</td>\n",
       "      <td>1.315040</td>\n",
       "      <td>1.315500</td>\n",
       "      <td>0.001765</td>\n",
       "    </tr>\n",
       "    <tr>\n",
       "      <th>17</th>\n",
       "      <td>grouped_aggregation_query_1</td>\n",
       "      <td>gpu-1</td>\n",
       "      <td>dgpu</td>\n",
       "      <td>Tesla K40m</td>\n",
       "      <td>Variant</td>\n",
       "      <td>parallel_three_pass</td>\n",
       "      <td>1.315270</td>\n",
       "      <td>1.315770</td>\n",
       "      <td>0.002268</td>\n",
       "    </tr>\n",
       "    <tr>\n",
       "      <th>18</th>\n",
       "      <td>grouped_aggregation_query_1</td>\n",
       "      <td>gpu-1</td>\n",
       "      <td>dgpu</td>\n",
       "      <td>Tesla K40m</td>\n",
       "      <td>Slow</td>\n",
       "      <td>parallel_global_atomic_single_pass</td>\n",
       "      <td>1.315620</td>\n",
       "      <td>1.338920</td>\n",
       "      <td>0.071607</td>\n",
       "    </tr>\n",
       "    <tr>\n",
       "      <th>19</th>\n",
       "      <td>grouped_aggregation_query_1</td>\n",
       "      <td>gpu-1</td>\n",
       "      <td>dgpu</td>\n",
       "      <td>Tesla K40m</td>\n",
       "      <td>Fast</td>\n",
       "      <td>coalesced</td>\n",
       "      <td>1.302350</td>\n",
       "      <td>1.302390</td>\n",
       "      <td>0.003715</td>\n",
       "    </tr>\n",
       "    <tr>\n",
       "      <th>20</th>\n",
       "      <td>grouped_aggregation_query_1</td>\n",
       "      <td>gpu-1</td>\n",
       "      <td>dgpu</td>\n",
       "      <td>Tesla K40m</td>\n",
       "      <td>Slow</td>\n",
       "      <td>sequential</td>\n",
       "      <td>1.315290</td>\n",
       "      <td>1.315900</td>\n",
       "      <td>0.002341</td>\n",
       "    </tr>\n",
       "    <tr>\n",
       "      <th>21</th>\n",
       "      <td>grouped_aggregation_query_1</td>\n",
       "      <td>gpu-1</td>\n",
       "      <td>dgpu</td>\n",
       "      <td>Tesla K40m</td>\n",
       "      <td>Fast</td>\n",
       "      <td>false</td>\n",
       "      <td>1.316010</td>\n",
       "      <td>1.315930</td>\n",
       "      <td>0.001764</td>\n",
       "    </tr>\n",
       "    <tr>\n",
       "      <th>22</th>\n",
       "      <td>grouped_aggregation_query_1</td>\n",
       "      <td>gpu-1</td>\n",
       "      <td>dgpu</td>\n",
       "      <td>Tesla K40m</td>\n",
       "      <td>Slow</td>\n",
       "      <td>true</td>\n",
       "      <td>1.316440</td>\n",
       "      <td>1.316660</td>\n",
       "      <td>0.001833</td>\n",
       "    </tr>\n",
       "    <tr>\n",
       "      <th>23</th>\n",
       "      <td>grouped_aggregation_query_1</td>\n",
       "      <td>gpu-1</td>\n",
       "      <td>dgpu</td>\n",
       "      <td>Tesla K40m</td>\n",
       "      <td>Combined</td>\n",
       "      <td>coalesced-false-serial_single_pass</td>\n",
       "      <td>1.303680</td>\n",
       "      <td>1.304120</td>\n",
       "      <td>0.003696</td>\n",
       "    </tr>\n",
       "    <tr>\n",
       "      <th>24</th>\n",
       "      <td>grouped_aggregation_query_1</td>\n",
       "      <td>gpu-1</td>\n",
       "      <td>dgpu</td>\n",
       "      <td>Tesla K40m</td>\n",
       "      <td>Fastest</td>\n",
       "      <td>coalesced-true-atomic_workgroup</td>\n",
       "      <td>0.063449</td>\n",
       "      <td>0.063563</td>\n",
       "      <td>0.000235</td>\n",
       "    </tr>\n",
       "    <tr>\n",
       "      <th>25</th>\n",
       "      <td>grouped_aggregation_query_1</td>\n",
       "      <td>gpu-1</td>\n",
       "      <td>dgpu</td>\n",
       "      <td>Tesla K40m</td>\n",
       "      <td>Variant</td>\n",
       "      <td>coalesced-false-atomic_workgroup</td>\n",
       "      <td>0.064196</td>\n",
       "      <td>0.064413</td>\n",
       "      <td>0.000682</td>\n",
       "    </tr>\n",
       "    <tr>\n",
       "      <th>26</th>\n",
       "      <td>grouped_aggregation_query_1</td>\n",
       "      <td>gpu-1</td>\n",
       "      <td>dgpu</td>\n",
       "      <td>Tesla K40m</td>\n",
       "      <td>Variant</td>\n",
       "      <td>coalesced-false-semaphore</td>\n",
       "      <td>1.302510</td>\n",
       "      <td>1.303210</td>\n",
       "      <td>0.003270</td>\n",
       "    </tr>\n",
       "    <tr>\n",
       "      <th>27</th>\n",
       "      <td>grouped_aggregation_query_1</td>\n",
       "      <td>gpu-1</td>\n",
       "      <td>dgpu</td>\n",
       "      <td>Tesla K40m</td>\n",
       "      <td>Variant</td>\n",
       "      <td>coalesced-true-semaphore</td>\n",
       "      <td>1.303150</td>\n",
       "      <td>1.303100</td>\n",
       "      <td>0.003018</td>\n",
       "    </tr>\n",
       "    <tr>\n",
       "      <th>28</th>\n",
       "      <td>grouped_aggregation_query_1</td>\n",
       "      <td>gpu-1</td>\n",
       "      <td>dgpu</td>\n",
       "      <td>Tesla K40m</td>\n",
       "      <td>Variant</td>\n",
       "      <td>sequential-false-semaphore</td>\n",
       "      <td>1.315990</td>\n",
       "      <td>1.315890</td>\n",
       "      <td>0.002126</td>\n",
       "    </tr>\n",
       "    <tr>\n",
       "      <th>29</th>\n",
       "      <td>grouped_aggregation_query_1</td>\n",
       "      <td>gpu-1</td>\n",
       "      <td>dgpu</td>\n",
       "      <td>Tesla K40m</td>\n",
       "      <td>Variant</td>\n",
       "      <td>sequential-true-semaphore</td>\n",
       "      <td>1.316260</td>\n",
       "      <td>1.317110</td>\n",
       "      <td>0.003349</td>\n",
       "    </tr>\n",
       "    <tr>\n",
       "      <th>30</th>\n",
       "      <td>grouped_aggregation_query_1</td>\n",
       "      <td>gpu-1</td>\n",
       "      <td>dgpu</td>\n",
       "      <td>Tesla K40m</td>\n",
       "      <td>Variant</td>\n",
       "      <td>coalesced-false-atomic</td>\n",
       "      <td>2.294860</td>\n",
       "      <td>2.294900</td>\n",
       "      <td>0.000396</td>\n",
       "    </tr>\n",
       "    <tr>\n",
       "      <th>31</th>\n",
       "      <td>grouped_aggregation_query_1</td>\n",
       "      <td>gpu-1</td>\n",
       "      <td>dgpu</td>\n",
       "      <td>Tesla K40m</td>\n",
       "      <td>Variant</td>\n",
       "      <td>coalesced-true-atomic</td>\n",
       "      <td>2.294910</td>\n",
       "      <td>2.294930</td>\n",
       "      <td>0.000379</td>\n",
       "    </tr>\n",
       "    <tr>\n",
       "      <th>32</th>\n",
       "      <td>grouped_aggregation_query_1</td>\n",
       "      <td>gpu-1</td>\n",
       "      <td>dgpu</td>\n",
       "      <td>Tesla K40m</td>\n",
       "      <td>Variant</td>\n",
       "      <td>sequential-true-atomic</td>\n",
       "      <td>2.443450</td>\n",
       "      <td>2.443960</td>\n",
       "      <td>0.002079</td>\n",
       "    </tr>\n",
       "    <tr>\n",
       "      <th>33</th>\n",
       "      <td>grouped_aggregation_query_1</td>\n",
       "      <td>gpu-1</td>\n",
       "      <td>dgpu</td>\n",
       "      <td>Tesla K40m</td>\n",
       "      <td>Variant</td>\n",
       "      <td>sequential-false-atomic</td>\n",
       "      <td>2.443600</td>\n",
       "      <td>2.444260</td>\n",
       "      <td>0.001499</td>\n",
       "    </tr>\n",
       "    <tr>\n",
       "      <th>34</th>\n",
       "      <td>grouped_aggregation_query_1</td>\n",
       "      <td>gpu-1</td>\n",
       "      <td>dgpu</td>\n",
       "      <td>Tesla K40m</td>\n",
       "      <td>Variant</td>\n",
       "      <td>sequential-true-atomic_workgroup</td>\n",
       "      <td>2.443990</td>\n",
       "      <td>2.444450</td>\n",
       "      <td>0.001892</td>\n",
       "    </tr>\n",
       "    <tr>\n",
       "      <th>35</th>\n",
       "      <td>grouped_aggregation_query_1</td>\n",
       "      <td>gpu-1</td>\n",
       "      <td>dgpu</td>\n",
       "      <td>Tesla K40m</td>\n",
       "      <td>Variant</td>\n",
       "      <td>sequential-false-atomic_workgroup</td>\n",
       "      <td>2.445700</td>\n",
       "      <td>2.445470</td>\n",
       "      <td>0.002050</td>\n",
       "    </tr>\n",
       "    <tr>\n",
       "      <th>36</th>\n",
       "      <td>grouped_aggregation_query_1</td>\n",
       "      <td>gpu-1</td>\n",
       "      <td>dgpu</td>\n",
       "      <td>Tesla K40m</td>\n",
       "      <td>Variant</td>\n",
       "      <td>sequential-true-sequential</td>\n",
       "      <td>8.241820</td>\n",
       "      <td>8.241610</td>\n",
       "      <td>0.002005</td>\n",
       "    </tr>\n",
       "    <tr>\n",
       "      <th>37</th>\n",
       "      <td>grouped_aggregation_query_1</td>\n",
       "      <td>gpu-1</td>\n",
       "      <td>dgpu</td>\n",
       "      <td>Tesla K40m</td>\n",
       "      <td>Variant</td>\n",
       "      <td>sequential-false-sequential</td>\n",
       "      <td>8.244470</td>\n",
       "      <td>8.244010</td>\n",
       "      <td>0.002237</td>\n",
       "    </tr>\n",
       "    <tr>\n",
       "      <th>38</th>\n",
       "      <td>grouped_aggregation_query_1</td>\n",
       "      <td>gpu-1</td>\n",
       "      <td>dgpu</td>\n",
       "      <td>Tesla K40m</td>\n",
       "      <td>Variant</td>\n",
       "      <td>coalesced-true-sequential</td>\n",
       "      <td>8.273240</td>\n",
       "      <td>8.274560</td>\n",
       "      <td>0.003646</td>\n",
       "    </tr>\n",
       "    <tr>\n",
       "      <th>39</th>\n",
       "      <td>grouped_aggregation_query_1</td>\n",
       "      <td>gpu-1</td>\n",
       "      <td>dgpu</td>\n",
       "      <td>Tesla K40m</td>\n",
       "      <td>Slowest</td>\n",
       "      <td>coalesced-false-sequential</td>\n",
       "      <td>8.276660</td>\n",
       "      <td>8.276640</td>\n",
       "      <td>0.001860</td>\n",
       "    </tr>\n",
       "  </tbody>\n",
       "</table>\n",
       "</div>"
      ],
      "text/plain": [
       "                          Query   Host DeviceType  \\\n",
       "0   grouped_aggregation_query_1  gpu-1        cpu   \n",
       "1   grouped_aggregation_query_1  gpu-1        cpu   \n",
       "2   grouped_aggregation_query_1  gpu-1        cpu   \n",
       "3   grouped_aggregation_query_1  gpu-1        cpu   \n",
       "4   grouped_aggregation_query_1  gpu-1        cpu   \n",
       "5   grouped_aggregation_query_1  gpu-1        cpu   \n",
       "6   grouped_aggregation_query_1  gpu-1        cpu   \n",
       "7   grouped_aggregation_query_1  gpu-1        cpu   \n",
       "8   grouped_aggregation_query_1  gpu-1        cpu   \n",
       "9   grouped_aggregation_query_1  gpu-1        cpu   \n",
       "10  grouped_aggregation_query_1  gpu-1        cpu   \n",
       "11  grouped_aggregation_query_1  gpu-1        cpu   \n",
       "12  grouped_aggregation_query_1  gpu-1        cpu   \n",
       "13  grouped_aggregation_query_1  gpu-1        cpu   \n",
       "14  grouped_aggregation_query_1  gpu-1        cpu   \n",
       "15  grouped_aggregation_query_1  gpu-1        cpu   \n",
       "16  grouped_aggregation_query_1  gpu-1       dgpu   \n",
       "17  grouped_aggregation_query_1  gpu-1       dgpu   \n",
       "18  grouped_aggregation_query_1  gpu-1       dgpu   \n",
       "19  grouped_aggregation_query_1  gpu-1       dgpu   \n",
       "20  grouped_aggregation_query_1  gpu-1       dgpu   \n",
       "21  grouped_aggregation_query_1  gpu-1       dgpu   \n",
       "22  grouped_aggregation_query_1  gpu-1       dgpu   \n",
       "23  grouped_aggregation_query_1  gpu-1       dgpu   \n",
       "24  grouped_aggregation_query_1  gpu-1       dgpu   \n",
       "25  grouped_aggregation_query_1  gpu-1       dgpu   \n",
       "26  grouped_aggregation_query_1  gpu-1       dgpu   \n",
       "27  grouped_aggregation_query_1  gpu-1       dgpu   \n",
       "28  grouped_aggregation_query_1  gpu-1       dgpu   \n",
       "29  grouped_aggregation_query_1  gpu-1       dgpu   \n",
       "30  grouped_aggregation_query_1  gpu-1       dgpu   \n",
       "31  grouped_aggregation_query_1  gpu-1       dgpu   \n",
       "32  grouped_aggregation_query_1  gpu-1       dgpu   \n",
       "33  grouped_aggregation_query_1  gpu-1       dgpu   \n",
       "34  grouped_aggregation_query_1  gpu-1       dgpu   \n",
       "35  grouped_aggregation_query_1  gpu-1       dgpu   \n",
       "36  grouped_aggregation_query_1  gpu-1       dgpu   \n",
       "37  grouped_aggregation_query_1  gpu-1       dgpu   \n",
       "38  grouped_aggregation_query_1  gpu-1       dgpu   \n",
       "39  grouped_aggregation_query_1  gpu-1       dgpu   \n",
       "\n",
       "                                       Device VariantTag  \\\n",
       "0   Intel(R) Xeon(R) CPU E5-2650 v2 @ 2.60GHz       Fast   \n",
       "1   Intel(R) Xeon(R) CPU E5-2650 v2 @ 2.60GHz    Variant   \n",
       "2   Intel(R) Xeon(R) CPU E5-2650 v2 @ 2.60GHz       Slow   \n",
       "3   Intel(R) Xeon(R) CPU E5-2650 v2 @ 2.60GHz       Fast   \n",
       "4   Intel(R) Xeon(R) CPU E5-2650 v2 @ 2.60GHz       Slow   \n",
       "5   Intel(R) Xeon(R) CPU E5-2650 v2 @ 2.60GHz       Fast   \n",
       "6   Intel(R) Xeon(R) CPU E5-2650 v2 @ 2.60GHz       Slow   \n",
       "7   Intel(R) Xeon(R) CPU E5-2650 v2 @ 2.60GHz   Combined   \n",
       "8   Intel(R) Xeon(R) CPU E5-2650 v2 @ 2.60GHz    Fastest   \n",
       "9   Intel(R) Xeon(R) CPU E5-2650 v2 @ 2.60GHz    Variant   \n",
       "10  Intel(R) Xeon(R) CPU E5-2650 v2 @ 2.60GHz    Variant   \n",
       "11  Intel(R) Xeon(R) CPU E5-2650 v2 @ 2.60GHz    Variant   \n",
       "12  Intel(R) Xeon(R) CPU E5-2650 v2 @ 2.60GHz    Variant   \n",
       "13  Intel(R) Xeon(R) CPU E5-2650 v2 @ 2.60GHz    Variant   \n",
       "14  Intel(R) Xeon(R) CPU E5-2650 v2 @ 2.60GHz    Variant   \n",
       "15  Intel(R) Xeon(R) CPU E5-2650 v2 @ 2.60GHz    Slowest   \n",
       "16                                 Tesla K40m       Fast   \n",
       "17                                 Tesla K40m    Variant   \n",
       "18                                 Tesla K40m       Slow   \n",
       "19                                 Tesla K40m       Fast   \n",
       "20                                 Tesla K40m       Slow   \n",
       "21                                 Tesla K40m       Fast   \n",
       "22                                 Tesla K40m       Slow   \n",
       "23                                 Tesla K40m   Combined   \n",
       "24                                 Tesla K40m    Fastest   \n",
       "25                                 Tesla K40m    Variant   \n",
       "26                                 Tesla K40m    Variant   \n",
       "27                                 Tesla K40m    Variant   \n",
       "28                                 Tesla K40m    Variant   \n",
       "29                                 Tesla K40m    Variant   \n",
       "30                                 Tesla K40m    Variant   \n",
       "31                                 Tesla K40m    Variant   \n",
       "32                                 Tesla K40m    Variant   \n",
       "33                                 Tesla K40m    Variant   \n",
       "34                                 Tesla K40m    Variant   \n",
       "35                                 Tesla K40m    Variant   \n",
       "36                                 Tesla K40m    Variant   \n",
       "37                                 Tesla K40m    Variant   \n",
       "38                                 Tesla K40m    Variant   \n",
       "39                                 Tesla K40m    Slowest   \n",
       "\n",
       "                                              Variant    Median      Mean  \\\n",
       "0                  parallel_global_atomic_single_pass  0.249208  0.318730   \n",
       "1                                  serial_single_pass  0.265625  0.353558   \n",
       "2                                 parallel_three_pass  0.491590  0.466837   \n",
       "3                                          sequential  0.252726  0.312408   \n",
       "4                                           coalesced  0.255858  0.338654   \n",
       "5                                               false  0.255444  0.313701   \n",
       "6                                                true  0.468588  0.371610   \n",
       "7   sequential-false-parallel_global_atomic_single...  0.253407  0.252697   \n",
       "8                           coalesced-true-sequential  0.029986  0.030798   \n",
       "9                          coalesced-false-sequential  0.032019  0.034239   \n",
       "10                        sequential-false-sequential  0.032823  0.032808   \n",
       "11                         sequential-true-sequential  0.033156  0.034265   \n",
       "12                           coalesced-true-semaphore  0.242125  0.242091   \n",
       "13                         sequential-false-semaphore  0.250340  0.250412   \n",
       "14                          sequential-true-semaphore  0.250692  0.348592   \n",
       "15                          coalesced-false-semaphore  0.259071  0.259037   \n",
       "16                                 serial_single_pass  1.315040  1.315500   \n",
       "17                                parallel_three_pass  1.315270  1.315770   \n",
       "18                 parallel_global_atomic_single_pass  1.315620  1.338920   \n",
       "19                                          coalesced  1.302350  1.302390   \n",
       "20                                         sequential  1.315290  1.315900   \n",
       "21                                              false  1.316010  1.315930   \n",
       "22                                               true  1.316440  1.316660   \n",
       "23                 coalesced-false-serial_single_pass  1.303680  1.304120   \n",
       "24                    coalesced-true-atomic_workgroup  0.063449  0.063563   \n",
       "25                   coalesced-false-atomic_workgroup  0.064196  0.064413   \n",
       "26                          coalesced-false-semaphore  1.302510  1.303210   \n",
       "27                           coalesced-true-semaphore  1.303150  1.303100   \n",
       "28                         sequential-false-semaphore  1.315990  1.315890   \n",
       "29                          sequential-true-semaphore  1.316260  1.317110   \n",
       "30                             coalesced-false-atomic  2.294860  2.294900   \n",
       "31                              coalesced-true-atomic  2.294910  2.294930   \n",
       "32                             sequential-true-atomic  2.443450  2.443960   \n",
       "33                            sequential-false-atomic  2.443600  2.444260   \n",
       "34                   sequential-true-atomic_workgroup  2.443990  2.444450   \n",
       "35                  sequential-false-atomic_workgroup  2.445700  2.445470   \n",
       "36                         sequential-true-sequential  8.241820  8.241610   \n",
       "37                        sequential-false-sequential  8.244470  8.244010   \n",
       "38                          coalesced-true-sequential  8.273240  8.274560   \n",
       "39                         coalesced-false-sequential  8.276660  8.276640   \n",
       "\n",
       "       Stdev  \n",
       "0   0.222212  \n",
       "1   0.128570  \n",
       "2   0.070860  \n",
       "3   0.100564  \n",
       "4   0.114170  \n",
       "5   0.100822  \n",
       "6   0.114893  \n",
       "7   0.005785  \n",
       "8   0.003627  \n",
       "9   0.005580  \n",
       "10  0.003944  \n",
       "11  0.004889  \n",
       "12  0.002891  \n",
       "13  0.004720  \n",
       "14  0.113313  \n",
       "15  0.005145  \n",
       "16  0.001765  \n",
       "17  0.002268  \n",
       "18  0.071607  \n",
       "19  0.003715  \n",
       "20  0.002341  \n",
       "21  0.001764  \n",
       "22  0.001833  \n",
       "23  0.003696  \n",
       "24  0.000235  \n",
       "25  0.000682  \n",
       "26  0.003270  \n",
       "27  0.003018  \n",
       "28  0.002126  \n",
       "29  0.003349  \n",
       "30  0.000396  \n",
       "31  0.000379  \n",
       "32  0.002079  \n",
       "33  0.001499  \n",
       "34  0.001892  \n",
       "35  0.002050  \n",
       "36  0.002005  \n",
       "37  0.002237  \n",
       "38  0.003646  \n",
       "39  0.001860  "
      ]
     },
     "execution_count": 7,
     "metadata": {},
     "output_type": "execute_result"
    }
   ],
   "source": [
    "filtered"
   ]
  },
  {
   "cell_type": "markdown",
   "metadata": {},
   "source": [
    "### Selecting the fastest variants"
   ]
  },
  {
   "cell_type": "code",
   "execution_count": 8,
   "metadata": {
    "collapsed": true
   },
   "outputs": [],
   "source": [
    "fastest = filtered[(filtered.VariantTag==\"Fastest\")]"
   ]
  },
  {
   "cell_type": "code",
   "execution_count": 9,
   "metadata": {
    "collapsed": false
   },
   "outputs": [
    {
     "data": {
      "text/html": [
       "<div>\n",
       "<table border=\"1\" class=\"dataframe\">\n",
       "  <thead>\n",
       "    <tr style=\"text-align: right;\">\n",
       "      <th></th>\n",
       "      <th>Query</th>\n",
       "      <th>Host</th>\n",
       "      <th>DeviceType</th>\n",
       "      <th>Device</th>\n",
       "      <th>VariantTag</th>\n",
       "      <th>Variant</th>\n",
       "      <th>Median</th>\n",
       "      <th>Mean</th>\n",
       "      <th>Stdev</th>\n",
       "    </tr>\n",
       "  </thead>\n",
       "  <tbody>\n",
       "    <tr>\n",
       "      <th>8</th>\n",
       "      <td>grouped_aggregation_query_1</td>\n",
       "      <td>gpu-1</td>\n",
       "      <td>cpu</td>\n",
       "      <td>Intel(R) Xeon(R) CPU E5-2650 v2 @ 2.60GHz</td>\n",
       "      <td>Fastest</td>\n",
       "      <td>coalesced-true-sequential</td>\n",
       "      <td>0.029986</td>\n",
       "      <td>0.030798</td>\n",
       "      <td>0.003627</td>\n",
       "    </tr>\n",
       "    <tr>\n",
       "      <th>24</th>\n",
       "      <td>grouped_aggregation_query_1</td>\n",
       "      <td>gpu-1</td>\n",
       "      <td>dgpu</td>\n",
       "      <td>Tesla K40m</td>\n",
       "      <td>Fastest</td>\n",
       "      <td>coalesced-true-atomic_workgroup</td>\n",
       "      <td>0.063449</td>\n",
       "      <td>0.063563</td>\n",
       "      <td>0.000235</td>\n",
       "    </tr>\n",
       "  </tbody>\n",
       "</table>\n",
       "</div>"
      ],
      "text/plain": [
       "                          Query   Host DeviceType  \\\n",
       "8   grouped_aggregation_query_1  gpu-1        cpu   \n",
       "24  grouped_aggregation_query_1  gpu-1       dgpu   \n",
       "\n",
       "                                       Device VariantTag  \\\n",
       "8   Intel(R) Xeon(R) CPU E5-2650 v2 @ 2.60GHz    Fastest   \n",
       "24                                 Tesla K40m    Fastest   \n",
       "\n",
       "                            Variant    Median      Mean     Stdev  \n",
       "8         coalesced-true-sequential  0.029986  0.030798  0.003627  \n",
       "24  coalesced-true-atomic_workgroup  0.063449  0.063563  0.000235  "
      ]
     },
     "execution_count": 9,
     "metadata": {},
     "output_type": "execute_result"
    }
   ],
   "source": [
    "fastest"
   ]
  },
  {
   "cell_type": "markdown",
   "metadata": {},
   "source": [
    "### Retrieve the variant names"
   ]
  },
  {
   "cell_type": "code",
   "execution_count": 10,
   "metadata": {
    "collapsed": true
   },
   "outputs": [],
   "source": [
    "optimalVariants = fastest.Variant.unique()"
   ]
  },
  {
   "cell_type": "code",
   "execution_count": 11,
   "metadata": {
    "collapsed": false
   },
   "outputs": [
    {
     "name": "stdout",
     "output_type": "stream",
     "text": [
      "Optimal Variants:\n",
      "\t coalesced-true-sequential\n",
      "\t coalesced-true-atomic_workgroup\n"
     ]
    }
   ],
   "source": [
    "print(\"Optimal Variants:\")\n",
    "for optimalVariant in optimalVariants:\n",
    "    print(\"\\t\", optimalVariant)"
   ]
  },
  {
   "cell_type": "markdown",
   "metadata": {},
   "source": [
    "### Retrieve their performance on all devices"
   ]
  },
  {
   "cell_type": "code",
   "execution_count": 12,
   "metadata": {
    "collapsed": true
   },
   "outputs": [],
   "source": [
    "optimal = filtered[(filtered.Variant.isin(optimalVariants))]"
   ]
  },
  {
   "cell_type": "code",
   "execution_count": 13,
   "metadata": {
    "collapsed": false
   },
   "outputs": [
    {
     "data": {
      "text/html": [
       "<div>\n",
       "<table border=\"1\" class=\"dataframe\">\n",
       "  <thead>\n",
       "    <tr style=\"text-align: right;\">\n",
       "      <th></th>\n",
       "      <th>Query</th>\n",
       "      <th>Host</th>\n",
       "      <th>DeviceType</th>\n",
       "      <th>Device</th>\n",
       "      <th>VariantTag</th>\n",
       "      <th>Variant</th>\n",
       "      <th>Median</th>\n",
       "      <th>Mean</th>\n",
       "      <th>Stdev</th>\n",
       "    </tr>\n",
       "  </thead>\n",
       "  <tbody>\n",
       "    <tr>\n",
       "      <th>8</th>\n",
       "      <td>grouped_aggregation_query_1</td>\n",
       "      <td>gpu-1</td>\n",
       "      <td>cpu</td>\n",
       "      <td>Intel(R) Xeon(R) CPU E5-2650 v2 @ 2.60GHz</td>\n",
       "      <td>Fastest</td>\n",
       "      <td>coalesced-true-sequential</td>\n",
       "      <td>0.029986</td>\n",
       "      <td>0.030798</td>\n",
       "      <td>0.003627</td>\n",
       "    </tr>\n",
       "    <tr>\n",
       "      <th>24</th>\n",
       "      <td>grouped_aggregation_query_1</td>\n",
       "      <td>gpu-1</td>\n",
       "      <td>dgpu</td>\n",
       "      <td>Tesla K40m</td>\n",
       "      <td>Fastest</td>\n",
       "      <td>coalesced-true-atomic_workgroup</td>\n",
       "      <td>0.063449</td>\n",
       "      <td>0.063563</td>\n",
       "      <td>0.000235</td>\n",
       "    </tr>\n",
       "    <tr>\n",
       "      <th>38</th>\n",
       "      <td>grouped_aggregation_query_1</td>\n",
       "      <td>gpu-1</td>\n",
       "      <td>dgpu</td>\n",
       "      <td>Tesla K40m</td>\n",
       "      <td>Variant</td>\n",
       "      <td>coalesced-true-sequential</td>\n",
       "      <td>8.273240</td>\n",
       "      <td>8.274560</td>\n",
       "      <td>0.003646</td>\n",
       "    </tr>\n",
       "  </tbody>\n",
       "</table>\n",
       "</div>"
      ],
      "text/plain": [
       "                          Query   Host DeviceType  \\\n",
       "8   grouped_aggregation_query_1  gpu-1        cpu   \n",
       "24  grouped_aggregation_query_1  gpu-1       dgpu   \n",
       "38  grouped_aggregation_query_1  gpu-1       dgpu   \n",
       "\n",
       "                                       Device VariantTag  \\\n",
       "8   Intel(R) Xeon(R) CPU E5-2650 v2 @ 2.60GHz    Fastest   \n",
       "24                                 Tesla K40m    Fastest   \n",
       "38                                 Tesla K40m    Variant   \n",
       "\n",
       "                            Variant    Median      Mean     Stdev  \n",
       "8         coalesced-true-sequential  0.029986  0.030798  0.003627  \n",
       "24  coalesced-true-atomic_workgroup  0.063449  0.063563  0.000235  \n",
       "38        coalesced-true-sequential  8.273240  8.274560  0.003646  "
      ]
     },
     "execution_count": 13,
     "metadata": {},
     "output_type": "execute_result"
    }
   ],
   "source": [
    "optimal"
   ]
  },
  {
   "cell_type": "markdown",
   "metadata": {},
   "source": [
    "### Select the best variants from Feature-wise Exploration"
   ]
  },
  {
   "cell_type": "code",
   "execution_count": 14,
   "metadata": {
    "collapsed": true
   },
   "outputs": [],
   "source": [
    "learned = filtered[(filtered.VariantTag==\"Combined\")]"
   ]
  },
  {
   "cell_type": "code",
   "execution_count": 15,
   "metadata": {
    "collapsed": false
   },
   "outputs": [
    {
     "data": {
      "text/html": [
       "<div>\n",
       "<table border=\"1\" class=\"dataframe\">\n",
       "  <thead>\n",
       "    <tr style=\"text-align: right;\">\n",
       "      <th></th>\n",
       "      <th>Query</th>\n",
       "      <th>Host</th>\n",
       "      <th>DeviceType</th>\n",
       "      <th>Device</th>\n",
       "      <th>VariantTag</th>\n",
       "      <th>Variant</th>\n",
       "      <th>Median</th>\n",
       "      <th>Mean</th>\n",
       "      <th>Stdev</th>\n",
       "    </tr>\n",
       "  </thead>\n",
       "  <tbody>\n",
       "    <tr>\n",
       "      <th>7</th>\n",
       "      <td>grouped_aggregation_query_1</td>\n",
       "      <td>gpu-1</td>\n",
       "      <td>cpu</td>\n",
       "      <td>Intel(R) Xeon(R) CPU E5-2650 v2 @ 2.60GHz</td>\n",
       "      <td>Combined</td>\n",
       "      <td>sequential-false-parallel_global_atomic_single...</td>\n",
       "      <td>0.253407</td>\n",
       "      <td>0.252697</td>\n",
       "      <td>0.005785</td>\n",
       "    </tr>\n",
       "    <tr>\n",
       "      <th>23</th>\n",
       "      <td>grouped_aggregation_query_1</td>\n",
       "      <td>gpu-1</td>\n",
       "      <td>dgpu</td>\n",
       "      <td>Tesla K40m</td>\n",
       "      <td>Combined</td>\n",
       "      <td>coalesced-false-serial_single_pass</td>\n",
       "      <td>1.303680</td>\n",
       "      <td>1.304120</td>\n",
       "      <td>0.003696</td>\n",
       "    </tr>\n",
       "  </tbody>\n",
       "</table>\n",
       "</div>"
      ],
      "text/plain": [
       "                          Query   Host DeviceType  \\\n",
       "7   grouped_aggregation_query_1  gpu-1        cpu   \n",
       "23  grouped_aggregation_query_1  gpu-1       dgpu   \n",
       "\n",
       "                                       Device VariantTag  \\\n",
       "7   Intel(R) Xeon(R) CPU E5-2650 v2 @ 2.60GHz   Combined   \n",
       "23                                 Tesla K40m   Combined   \n",
       "\n",
       "                                              Variant    Median      Mean  \\\n",
       "7   sequential-false-parallel_global_atomic_single...  0.253407  0.252697   \n",
       "23                 coalesced-false-serial_single_pass  1.303680  1.304120   \n",
       "\n",
       "       Stdev  \n",
       "7   0.005785  \n",
       "23  0.003696  "
      ]
     },
     "execution_count": 15,
     "metadata": {},
     "output_type": "execute_result"
    }
   ],
   "source": [
    "learned"
   ]
  },
  {
   "cell_type": "markdown",
   "metadata": {},
   "source": [
    "### Combine both sets of Variants"
   ]
  },
  {
   "cell_type": "code",
   "execution_count": 16,
   "metadata": {
    "collapsed": false
   },
   "outputs": [],
   "source": [
    "combined = pd.concat([optimal, learned])"
   ]
  },
  {
   "cell_type": "code",
   "execution_count": 17,
   "metadata": {
    "collapsed": false
   },
   "outputs": [
    {
     "data": {
      "text/html": [
       "<div>\n",
       "<table border=\"1\" class=\"dataframe\">\n",
       "  <thead>\n",
       "    <tr style=\"text-align: right;\">\n",
       "      <th></th>\n",
       "      <th>Query</th>\n",
       "      <th>Host</th>\n",
       "      <th>DeviceType</th>\n",
       "      <th>Device</th>\n",
       "      <th>VariantTag</th>\n",
       "      <th>Variant</th>\n",
       "      <th>Median</th>\n",
       "      <th>Mean</th>\n",
       "      <th>Stdev</th>\n",
       "    </tr>\n",
       "  </thead>\n",
       "  <tbody>\n",
       "    <tr>\n",
       "      <th>8</th>\n",
       "      <td>grouped_aggregation_query_1</td>\n",
       "      <td>gpu-1</td>\n",
       "      <td>cpu</td>\n",
       "      <td>Intel(R) Xeon(R) CPU E5-2650 v2 @ 2.60GHz</td>\n",
       "      <td>Fastest</td>\n",
       "      <td>coalesced-true-sequential</td>\n",
       "      <td>0.029986</td>\n",
       "      <td>0.030798</td>\n",
       "      <td>0.003627</td>\n",
       "    </tr>\n",
       "    <tr>\n",
       "      <th>24</th>\n",
       "      <td>grouped_aggregation_query_1</td>\n",
       "      <td>gpu-1</td>\n",
       "      <td>dgpu</td>\n",
       "      <td>Tesla K40m</td>\n",
       "      <td>Fastest</td>\n",
       "      <td>coalesced-true-atomic_workgroup</td>\n",
       "      <td>0.063449</td>\n",
       "      <td>0.063563</td>\n",
       "      <td>0.000235</td>\n",
       "    </tr>\n",
       "    <tr>\n",
       "      <th>38</th>\n",
       "      <td>grouped_aggregation_query_1</td>\n",
       "      <td>gpu-1</td>\n",
       "      <td>dgpu</td>\n",
       "      <td>Tesla K40m</td>\n",
       "      <td>Variant</td>\n",
       "      <td>coalesced-true-sequential</td>\n",
       "      <td>8.273240</td>\n",
       "      <td>8.274560</td>\n",
       "      <td>0.003646</td>\n",
       "    </tr>\n",
       "    <tr>\n",
       "      <th>7</th>\n",
       "      <td>grouped_aggregation_query_1</td>\n",
       "      <td>gpu-1</td>\n",
       "      <td>cpu</td>\n",
       "      <td>Intel(R) Xeon(R) CPU E5-2650 v2 @ 2.60GHz</td>\n",
       "      <td>Combined</td>\n",
       "      <td>sequential-false-parallel_global_atomic_single...</td>\n",
       "      <td>0.253407</td>\n",
       "      <td>0.252697</td>\n",
       "      <td>0.005785</td>\n",
       "    </tr>\n",
       "    <tr>\n",
       "      <th>23</th>\n",
       "      <td>grouped_aggregation_query_1</td>\n",
       "      <td>gpu-1</td>\n",
       "      <td>dgpu</td>\n",
       "      <td>Tesla K40m</td>\n",
       "      <td>Combined</td>\n",
       "      <td>coalesced-false-serial_single_pass</td>\n",
       "      <td>1.303680</td>\n",
       "      <td>1.304120</td>\n",
       "      <td>0.003696</td>\n",
       "    </tr>\n",
       "  </tbody>\n",
       "</table>\n",
       "</div>"
      ],
      "text/plain": [
       "                          Query   Host DeviceType  \\\n",
       "8   grouped_aggregation_query_1  gpu-1        cpu   \n",
       "24  grouped_aggregation_query_1  gpu-1       dgpu   \n",
       "38  grouped_aggregation_query_1  gpu-1       dgpu   \n",
       "7   grouped_aggregation_query_1  gpu-1        cpu   \n",
       "23  grouped_aggregation_query_1  gpu-1       dgpu   \n",
       "\n",
       "                                       Device VariantTag  \\\n",
       "8   Intel(R) Xeon(R) CPU E5-2650 v2 @ 2.60GHz    Fastest   \n",
       "24                                 Tesla K40m    Fastest   \n",
       "38                                 Tesla K40m    Variant   \n",
       "7   Intel(R) Xeon(R) CPU E5-2650 v2 @ 2.60GHz   Combined   \n",
       "23                                 Tesla K40m   Combined   \n",
       "\n",
       "                                              Variant    Median      Mean  \\\n",
       "8                           coalesced-true-sequential  0.029986  0.030798   \n",
       "24                    coalesced-true-atomic_workgroup  0.063449  0.063563   \n",
       "38                          coalesced-true-sequential  8.273240  8.274560   \n",
       "7   sequential-false-parallel_global_atomic_single...  0.253407  0.252697   \n",
       "23                 coalesced-false-serial_single_pass  1.303680  1.304120   \n",
       "\n",
       "       Stdev  \n",
       "8   0.003627  \n",
       "24  0.000235  \n",
       "38  0.003646  \n",
       "7   0.005785  \n",
       "23  0.003696  "
      ]
     },
     "execution_count": 17,
     "metadata": {},
     "output_type": "execute_result"
    }
   ],
   "source": [
    "combined"
   ]
  },
  {
   "cell_type": "markdown",
   "metadata": {},
   "source": [
    "### Calculate quantiles per device"
   ]
  },
  {
   "cell_type": "code",
   "execution_count": 18,
   "metadata": {
    "collapsed": true
   },
   "outputs": [],
   "source": [
    "grouping = [\"Query\", \"Host\", \"DeviceType\", \"Device\"]\n",
    "device = filtered.groupby(grouping)"
   ]
  },
  {
   "cell_type": "code",
   "execution_count": 19,
   "metadata": {
    "collapsed": false
   },
   "outputs": [
    {
     "data": {
      "text/plain": [
       "<matplotlib.axes._subplots.AxesSubplot at 0x7f952f6262b0>"
      ]
     },
     "execution_count": 19,
     "metadata": {},
     "output_type": "execute_result"
    },
    {
     "data": {
      "image/png": "[encoded data removed]",
      "text/plain": [
       "<matplotlib.figure.Figure at 0x7f952f96f7f0>"
      ]
     },
     "metadata": {},
     "output_type": "display_data"
    }
   ],
   "source": [
    "filtered.boxplot(column=\"Mean\", by=[\"Device\"])"
   ]
  },
  {
   "cell_type": "code",
   "execution_count": 20,
   "metadata": {
    "collapsed": false
   },
   "outputs": [],
   "source": [
    "q01 = device.Mean.quantile(0.01)"
   ]
  },
  {
   "cell_type": "code",
   "execution_count": 21,
   "metadata": {
    "collapsed": false
   },
   "outputs": [],
   "source": [
    "q25 = device.Mean.quantile(0.25)"
   ]
  },
  {
   "cell_type": "code",
   "execution_count": 22,
   "metadata": {
    "collapsed": false
   },
   "outputs": [],
   "source": [
    "q50 = device.Mean.quantile(0.50)"
   ]
  },
  {
   "cell_type": "code",
   "execution_count": 23,
   "metadata": {
    "collapsed": false
   },
   "outputs": [],
   "source": [
    "q75 = device.Mean.quantile(0.75)"
   ]
  },
  {
   "cell_type": "code",
   "execution_count": 24,
   "metadata": {
    "collapsed": false
   },
   "outputs": [],
   "source": [
    "q99 = device.Mean.quantile(0.99)"
   ]
  },
  {
   "cell_type": "code",
   "execution_count": 25,
   "metadata": {
    "collapsed": false
   },
   "outputs": [],
   "source": [
    "quantiles = pd.DataFrame({'Q01': q01, 'Q25': q25, 'Q50': q50, 'Q75': q75, 'Q99': q99})"
   ]
  },
  {
   "cell_type": "code",
   "execution_count": 26,
   "metadata": {
    "collapsed": false
   },
   "outputs": [
    {
     "data": {
      "text/html": [
       "<div>\n",
       "<table border=\"1\" class=\"dataframe\">\n",
       "  <thead>\n",
       "    <tr style=\"text-align: right;\">\n",
       "      <th></th>\n",
       "      <th></th>\n",
       "      <th></th>\n",
       "      <th></th>\n",
       "      <th>Q01</th>\n",
       "      <th>Q25</th>\n",
       "      <th>Q50</th>\n",
       "      <th>Q75</th>\n",
       "      <th>Q99</th>\n",
       "    </tr>\n",
       "    <tr>\n",
       "      <th>Query</th>\n",
       "      <th>Host</th>\n",
       "      <th>DeviceType</th>\n",
       "      <th>Device</th>\n",
       "      <th></th>\n",
       "      <th></th>\n",
       "      <th></th>\n",
       "      <th></th>\n",
       "      <th></th>\n",
       "    </tr>\n",
       "  </thead>\n",
       "  <tbody>\n",
       "    <tr>\n",
       "      <th rowspan=\"2\" valign=\"top\">grouped_aggregation_query_1</th>\n",
       "      <th rowspan=\"2\" valign=\"top\">gpu-1</th>\n",
       "      <th>cpu</th>\n",
       "      <th>Intel(R) Xeon(R) CPU E5-2650 v2 @ 2.60GHz</th>\n",
       "      <td>0.031100</td>\n",
       "      <td>0.190135</td>\n",
       "      <td>0.285722</td>\n",
       "      <td>0.341139</td>\n",
       "      <td>0.452553</td>\n",
       "    </tr>\n",
       "    <tr>\n",
       "      <th>dgpu</th>\n",
       "      <th>Tesla K40m</th>\n",
       "      <td>0.063759</td>\n",
       "      <td>1.312655</td>\n",
       "      <td>1.316885</td>\n",
       "      <td>2.444307</td>\n",
       "      <td>8.276162</td>\n",
       "    </tr>\n",
       "  </tbody>\n",
       "</table>\n",
       "</div>"
      ],
      "text/plain": [
       "                                                                                             Q01  \\\n",
       "Query                       Host  DeviceType Device                                                \n",
       "grouped_aggregation_query_1 gpu-1 cpu        Intel(R) Xeon(R) CPU E5-2650 v2 @ 2.60GHz  0.031100   \n",
       "                                  dgpu       Tesla K40m                                 0.063759   \n",
       "\n",
       "                                                                                             Q25  \\\n",
       "Query                       Host  DeviceType Device                                                \n",
       "grouped_aggregation_query_1 gpu-1 cpu        Intel(R) Xeon(R) CPU E5-2650 v2 @ 2.60GHz  0.190135   \n",
       "                                  dgpu       Tesla K40m                                 1.312655   \n",
       "\n",
       "                                                                                             Q50  \\\n",
       "Query                       Host  DeviceType Device                                                \n",
       "grouped_aggregation_query_1 gpu-1 cpu        Intel(R) Xeon(R) CPU E5-2650 v2 @ 2.60GHz  0.285722   \n",
       "                                  dgpu       Tesla K40m                                 1.316885   \n",
       "\n",
       "                                                                                             Q75  \\\n",
       "Query                       Host  DeviceType Device                                                \n",
       "grouped_aggregation_query_1 gpu-1 cpu        Intel(R) Xeon(R) CPU E5-2650 v2 @ 2.60GHz  0.341139   \n",
       "                                  dgpu       Tesla K40m                                 2.444307   \n",
       "\n",
       "                                                                                             Q99  \n",
       "Query                       Host  DeviceType Device                                               \n",
       "grouped_aggregation_query_1 gpu-1 cpu        Intel(R) Xeon(R) CPU E5-2650 v2 @ 2.60GHz  0.452553  \n",
       "                                  dgpu       Tesla K40m                                 8.276162  "
      ]
     },
     "execution_count": 26,
     "metadata": {},
     "output_type": "execute_result"
    }
   ],
   "source": [
    "quantiles"
   ]
  }
 ],
 "metadata": {
  "kernelspec": {
   "display_name": "Python 3",
   "language": "python",
   "name": "python3"
  },
  "language_info": {
   "codemirror_mode": {
    "name": "ipython",
    "version": 3
   },
   "file_extension": ".py",
   "mimetype": "text/x-python",
   "name": "python",
   "nbconvert_exporter": "python",
   "pygments_lexer": "ipython3",
   "version": "3.5.2"
  }
 },
 "nbformat": 4,
 "nbformat_minor": 0
}
